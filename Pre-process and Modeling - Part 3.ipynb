{
 "cells": [
  {
   "cell_type": "markdown",
   "metadata": {},
   "source": [
    "## Pre-process and Modeling\n"
   ]
  },
  {
   "cell_type": "markdown",
   "metadata": {},
   "source": [
    "#### Import Libraries and Data\n",
    "---"
   ]
  },
  {
   "cell_type": "code",
   "execution_count": 28,
   "metadata": {},
   "outputs": [],
   "source": [
    "# Import Libraries\n",
    "import pandas as pd\n",
    "import matplotlib.pyplot as plt\n",
    "from sklearn.model_selection import train_test_split, GridSearchCV\n",
    "from sklearn.pipeline import Pipeline\n",
    "from sklearn.linear_model import LogisticRegression\n",
    "from sklearn.feature_extraction.text import CountVectorizer, TfidfVectorizer\n",
    "from sklearn.naive_bayes import MultinomialNB\n",
    "from sklearn.metrics import confusion_matrix\n",
    "from sklearn.datasets import make_classification\n",
    "from sklearn.metrics import classification_report\n",
    "from sklearn.metrics import roc_curve\n",
    "from sklearn.metrics import roc_auc_score"
   ]
  },
  {
   "cell_type": "code",
   "execution_count": 2,
   "metadata": {},
   "outputs": [],
   "source": [
    "# Import data from combined_clean csv\n",
    "comb_clean = pd.read_csv('.\\data\\combined_clean.csv')"
   ]
  },
  {
   "cell_type": "code",
   "execution_count": 3,
   "metadata": {},
   "outputs": [
    {
     "data": {
      "text/html": [
       "<div>\n",
       "<style scoped>\n",
       "    .dataframe tbody tr th:only-of-type {\n",
       "        vertical-align: middle;\n",
       "    }\n",
       "\n",
       "    .dataframe tbody tr th {\n",
       "        vertical-align: top;\n",
       "    }\n",
       "\n",
       "    .dataframe thead th {\n",
       "        text-align: right;\n",
       "    }\n",
       "</style>\n",
       "<table border=\"1\" class=\"dataframe\">\n",
       "  <thead>\n",
       "    <tr style=\"text-align: right;\">\n",
       "      <th></th>\n",
       "      <th>authors</th>\n",
       "      <th>title</th>\n",
       "      <th>body</th>\n",
       "      <th>category</th>\n",
       "      <th>title_clean</th>\n",
       "      <th>body_clean</th>\n",
       "      <th>total_clean</th>\n",
       "    </tr>\n",
       "  </thead>\n",
       "  <tbody>\n",
       "    <tr>\n",
       "      <th>0</th>\n",
       "      <td>t3_gjllle</td>\n",
       "      <td>An Additional 2.98 Million People Filed for Un...</td>\n",
       "      <td>[https://www.dol.gov/ui/data.pdf](https://www...</td>\n",
       "      <td>investing</td>\n",
       "      <td>additional million people filed unemployment week</td>\n",
       "      <td>week ending may advance figure seasonally adj...</td>\n",
       "      <td>additional million people filed unemployment w...</td>\n",
       "    </tr>\n",
       "    <tr>\n",
       "      <th>1</th>\n",
       "      <td>t3_gje85k</td>\n",
       "      <td>Don't wait for Buffett to give an \"all clear\" ...</td>\n",
       "      <td>[https://www.cnbc.com/id/31526130](https://www...</td>\n",
       "      <td>investing</td>\n",
       "      <td>wait buffett give clear signal stock economy l...</td>\n",
       "      <td>buffett everything see economy bounce term eco...</td>\n",
       "      <td>wait buffett give clear signal stock economy l...</td>\n",
       "    </tr>\n",
       "    <tr>\n",
       "      <th>2</th>\n",
       "      <td>t3_giytgu</td>\n",
       "      <td>Fed Chairman Jerome Powell paints a grim econo...</td>\n",
       "      <td>Powell in a speech this morning gave a [decide...</td>\n",
       "      <td>investing</td>\n",
       "      <td>fed chairman jerome powell paint grim economic...</td>\n",
       "      <td>powell speech morning gave decidedly negative ...</td>\n",
       "      <td>fed chairman jerome powell paint grim economic...</td>\n",
       "    </tr>\n",
       "    <tr>\n",
       "      <th>3</th>\n",
       "      <td>t3_gj4i1u</td>\n",
       "      <td>[WSJ] Uber Eats are losing money on delivery o...</td>\n",
       "      <td>https://www.wsj.com/articles/america-is-stuck-...</td>\n",
       "      <td>investing</td>\n",
       "      <td>wsj uber eats losing money delivery order bare...</td>\n",
       "      <td>coronavirus pandemic handed food delivery comp...</td>\n",
       "      <td>wsj uber eats losing money delivery order bare...</td>\n",
       "    </tr>\n",
       "    <tr>\n",
       "      <th>4</th>\n",
       "      <td>t3_gjl09q</td>\n",
       "      <td>NCLH misses earnings expectations, reports eno...</td>\n",
       "      <td>This one should be fun to watch today.  They w...</td>\n",
       "      <td>investing</td>\n",
       "      <td>nclh miss earnings expectation report enough l...</td>\n",
       "      <td>one fun watch today much currently feeling goi...</td>\n",
       "      <td>nclh miss earnings expectation report enough l...</td>\n",
       "    </tr>\n",
       "  </tbody>\n",
       "</table>\n",
       "</div>"
      ],
      "text/plain": [
       "     authors                                              title  \\\n",
       "0  t3_gjllle  An Additional 2.98 Million People Filed for Un...   \n",
       "1  t3_gje85k  Don't wait for Buffett to give an \"all clear\" ...   \n",
       "2  t3_giytgu  Fed Chairman Jerome Powell paints a grim econo...   \n",
       "3  t3_gj4i1u  [WSJ] Uber Eats are losing money on delivery o...   \n",
       "4  t3_gjl09q  NCLH misses earnings expectations, reports eno...   \n",
       "\n",
       "                                                body   category  \\\n",
       "0   [https://www.dol.gov/ui/data.pdf](https://www...  investing   \n",
       "1  [https://www.cnbc.com/id/31526130](https://www...  investing   \n",
       "2  Powell in a speech this morning gave a [decide...  investing   \n",
       "3  https://www.wsj.com/articles/america-is-stuck-...  investing   \n",
       "4  This one should be fun to watch today.  They w...  investing   \n",
       "\n",
       "                                         title_clean  \\\n",
       "0  additional million people filed unemployment week   \n",
       "1  wait buffett give clear signal stock economy l...   \n",
       "2  fed chairman jerome powell paint grim economic...   \n",
       "3  wsj uber eats losing money delivery order bare...   \n",
       "4  nclh miss earnings expectation report enough l...   \n",
       "\n",
       "                                          body_clean  \\\n",
       "0   week ending may advance figure seasonally adj...   \n",
       "1  buffett everything see economy bounce term eco...   \n",
       "2  powell speech morning gave decidedly negative ...   \n",
       "3  coronavirus pandemic handed food delivery comp...   \n",
       "4  one fun watch today much currently feeling goi...   \n",
       "\n",
       "                                         total_clean  \n",
       "0  additional million people filed unemployment w...  \n",
       "1  wait buffett give clear signal stock economy l...  \n",
       "2  fed chairman jerome powell paint grim economic...  \n",
       "3  wsj uber eats losing money delivery order bare...  \n",
       "4  nclh miss earnings expectation report enough l...  "
      ]
     },
     "execution_count": 3,
     "metadata": {},
     "output_type": "execute_result"
    }
   ],
   "source": [
    "# Display comb_clean data set\n",
    "comb_clean.head()"
   ]
  },
  {
   "cell_type": "markdown",
   "metadata": {},
   "source": [
    "#### Model Prep\n",
    "---\n",
    "Convert Investing and Personal Finance into binary labels:\n",
    "\n",
    "- 1 for Investing\n",
    "- 0 for Personal Finance"
   ]
  },
  {
   "cell_type": "code",
   "execution_count": 4,
   "metadata": {},
   "outputs": [
    {
     "data": {
      "text/html": [
       "<div>\n",
       "<style scoped>\n",
       "    .dataframe tbody tr th:only-of-type {\n",
       "        vertical-align: middle;\n",
       "    }\n",
       "\n",
       "    .dataframe tbody tr th {\n",
       "        vertical-align: top;\n",
       "    }\n",
       "\n",
       "    .dataframe thead th {\n",
       "        text-align: right;\n",
       "    }\n",
       "</style>\n",
       "<table border=\"1\" class=\"dataframe\">\n",
       "  <thead>\n",
       "    <tr style=\"text-align: right;\">\n",
       "      <th></th>\n",
       "      <th>authors</th>\n",
       "      <th>title</th>\n",
       "      <th>body</th>\n",
       "      <th>category</th>\n",
       "      <th>title_clean</th>\n",
       "      <th>body_clean</th>\n",
       "      <th>total_clean</th>\n",
       "    </tr>\n",
       "  </thead>\n",
       "  <tbody>\n",
       "    <tr>\n",
       "      <th>0</th>\n",
       "      <td>t3_gjllle</td>\n",
       "      <td>An Additional 2.98 Million People Filed for Un...</td>\n",
       "      <td>[https://www.dol.gov/ui/data.pdf](https://www...</td>\n",
       "      <td>1</td>\n",
       "      <td>additional million people filed unemployment week</td>\n",
       "      <td>week ending may advance figure seasonally adj...</td>\n",
       "      <td>additional million people filed unemployment w...</td>\n",
       "    </tr>\n",
       "    <tr>\n",
       "      <th>1</th>\n",
       "      <td>t3_gje85k</td>\n",
       "      <td>Don't wait for Buffett to give an \"all clear\" ...</td>\n",
       "      <td>[https://www.cnbc.com/id/31526130](https://www...</td>\n",
       "      <td>1</td>\n",
       "      <td>wait buffett give clear signal stock economy l...</td>\n",
       "      <td>buffett everything see economy bounce term eco...</td>\n",
       "      <td>wait buffett give clear signal stock economy l...</td>\n",
       "    </tr>\n",
       "    <tr>\n",
       "      <th>2</th>\n",
       "      <td>t3_giytgu</td>\n",
       "      <td>Fed Chairman Jerome Powell paints a grim econo...</td>\n",
       "      <td>Powell in a speech this morning gave a [decide...</td>\n",
       "      <td>1</td>\n",
       "      <td>fed chairman jerome powell paint grim economic...</td>\n",
       "      <td>powell speech morning gave decidedly negative ...</td>\n",
       "      <td>fed chairman jerome powell paint grim economic...</td>\n",
       "    </tr>\n",
       "    <tr>\n",
       "      <th>3</th>\n",
       "      <td>t3_gj4i1u</td>\n",
       "      <td>[WSJ] Uber Eats are losing money on delivery o...</td>\n",
       "      <td>https://www.wsj.com/articles/america-is-stuck-...</td>\n",
       "      <td>1</td>\n",
       "      <td>wsj uber eats losing money delivery order bare...</td>\n",
       "      <td>coronavirus pandemic handed food delivery comp...</td>\n",
       "      <td>wsj uber eats losing money delivery order bare...</td>\n",
       "    </tr>\n",
       "    <tr>\n",
       "      <th>4</th>\n",
       "      <td>t3_gjl09q</td>\n",
       "      <td>NCLH misses earnings expectations, reports eno...</td>\n",
       "      <td>This one should be fun to watch today.  They w...</td>\n",
       "      <td>1</td>\n",
       "      <td>nclh miss earnings expectation report enough l...</td>\n",
       "      <td>one fun watch today much currently feeling goi...</td>\n",
       "      <td>nclh miss earnings expectation report enough l...</td>\n",
       "    </tr>\n",
       "  </tbody>\n",
       "</table>\n",
       "</div>"
      ],
      "text/plain": [
       "     authors                                              title  \\\n",
       "0  t3_gjllle  An Additional 2.98 Million People Filed for Un...   \n",
       "1  t3_gje85k  Don't wait for Buffett to give an \"all clear\" ...   \n",
       "2  t3_giytgu  Fed Chairman Jerome Powell paints a grim econo...   \n",
       "3  t3_gj4i1u  [WSJ] Uber Eats are losing money on delivery o...   \n",
       "4  t3_gjl09q  NCLH misses earnings expectations, reports eno...   \n",
       "\n",
       "                                                body  category  \\\n",
       "0   [https://www.dol.gov/ui/data.pdf](https://www...         1   \n",
       "1  [https://www.cnbc.com/id/31526130](https://www...         1   \n",
       "2  Powell in a speech this morning gave a [decide...         1   \n",
       "3  https://www.wsj.com/articles/america-is-stuck-...         1   \n",
       "4  This one should be fun to watch today.  They w...         1   \n",
       "\n",
       "                                         title_clean  \\\n",
       "0  additional million people filed unemployment week   \n",
       "1  wait buffett give clear signal stock economy l...   \n",
       "2  fed chairman jerome powell paint grim economic...   \n",
       "3  wsj uber eats losing money delivery order bare...   \n",
       "4  nclh miss earnings expectation report enough l...   \n",
       "\n",
       "                                          body_clean  \\\n",
       "0   week ending may advance figure seasonally adj...   \n",
       "1  buffett everything see economy bounce term eco...   \n",
       "2  powell speech morning gave decidedly negative ...   \n",
       "3  coronavirus pandemic handed food delivery comp...   \n",
       "4  one fun watch today much currently feeling goi...   \n",
       "\n",
       "                                         total_clean  \n",
       "0  additional million people filed unemployment w...  \n",
       "1  wait buffett give clear signal stock economy l...  \n",
       "2  fed chairman jerome powell paint grim economic...  \n",
       "3  wsj uber eats losing money delivery order bare...  \n",
       "4  nclh miss earnings expectation report enough l...  "
      ]
     },
     "execution_count": 4,
     "metadata": {},
     "output_type": "execute_result"
    }
   ],
   "source": [
    "comb_clean['category'] = comb_clean['category'].map({'investing': 1, 'personalfinance': 0})\n",
    "comb_clean.head()"
   ]
  },
  {
   "cell_type": "code",
   "execution_count": 5,
   "metadata": {},
   "outputs": [
    {
     "data": {
      "text/plain": [
       "authors         0\n",
       "title           0\n",
       "body            2\n",
       "category        0\n",
       "title_clean     2\n",
       "body_clean     22\n",
       "total_clean     0\n",
       "dtype: int64"
      ]
     },
     "execution_count": 5,
     "metadata": {},
     "output_type": "execute_result"
    }
   ],
   "source": [
    "# Check for null\n",
    "comb_clean.isnull().sum()"
   ]
  },
  {
   "cell_type": "code",
   "execution_count": 6,
   "metadata": {},
   "outputs": [],
   "source": [
    "# Replace nulls with Na's\n",
    "comb_clean.fillna('', inplace=True)"
   ]
  },
  {
   "cell_type": "code",
   "execution_count": 7,
   "metadata": {},
   "outputs": [
    {
     "name": "stdout",
     "output_type": "stream",
     "text": [
      "<class 'pandas.core.frame.DataFrame'>\n",
      "RangeIndex: 1742 entries, 0 to 1741\n",
      "Data columns (total 7 columns):\n",
      "authors        1742 non-null object\n",
      "title          1742 non-null object\n",
      "body           1742 non-null object\n",
      "category       1742 non-null int64\n",
      "title_clean    1742 non-null object\n",
      "body_clean     1742 non-null object\n",
      "total_clean    1742 non-null object\n",
      "dtypes: int64(1), object(6)\n",
      "memory usage: 95.3+ KB\n"
     ]
    }
   ],
   "source": [
    "# Check if the null values have been replaced\n",
    "# Check data type of the columns\n",
    "comb_clean.info()"
   ]
  },
  {
   "cell_type": "markdown",
   "metadata": {},
   "source": [
    "#### Baseline Score\n",
    "---"
   ]
  },
  {
   "cell_type": "code",
   "execution_count": 8,
   "metadata": {},
   "outputs": [
    {
     "data": {
      "text/plain": [
       "0    0.514925\n",
       "1    0.485075\n",
       "Name: category, dtype: float64"
      ]
     },
     "execution_count": 8,
     "metadata": {},
     "output_type": "execute_result"
    }
   ],
   "source": [
    "# Check whether the target is balance\n",
    "comb_clean['category'].value_counts(normalize=True)"
   ]
  },
  {
   "cell_type": "markdown",
   "metadata": {},
   "source": [
    "#### Create the Training and Test datasets\n",
    "---"
   ]
  },
  {
   "cell_type": "code",
   "execution_count": 9,
   "metadata": {},
   "outputs": [
    {
     "name": "stdout",
     "output_type": "stream",
     "text": [
      "(1167,)\n",
      "(575,)\n"
     ]
    }
   ],
   "source": [
    "# Input predictor variable\n",
    "X = comb_clean['total_clean']\n",
    "y = comb_clean['category']\n",
    "\n",
    "# Split the data into the training and testing sets.\n",
    "X_train, X_test, y_train, y_test = train_test_split(X, y,\n",
    "                                                    test_size=0.33,\n",
    "                                                    stratify=y,\n",
    "                                                    random_state=42)\n",
    "\n",
    "# Dimension of X_train, X_test\n",
    "print(X_train.shape)\n",
    "print(X_test.shape)"
   ]
  },
  {
   "cell_type": "markdown",
   "metadata": {},
   "source": [
    "#### Logistic Regression - CountVectorizer\n",
    "---"
   ]
  },
  {
   "cell_type": "markdown",
   "metadata": {},
   "source": [
    "Set up a pipeline with two stages:\n",
    "\n",
    "- CountVectorizer (transformer)\n",
    "- LogisticRegression (estimator)"
   ]
  },
  {
   "cell_type": "code",
   "execution_count": 10,
   "metadata": {},
   "outputs": [
    {
     "name": "stdout",
     "output_type": "stream",
     "text": [
      "Fitting 5 folds for each of 24 candidates, totalling 120 fits\n"
     ]
    },
    {
     "name": "stderr",
     "output_type": "stream",
     "text": [
      "[Parallel(n_jobs=1)]: Using backend SequentialBackend with 1 concurrent workers.\n",
      "[Parallel(n_jobs=1)]: Done 120 out of 120 | elapsed:   25.0s finished\n"
     ]
    },
    {
     "data": {
      "text/plain": [
       "GridSearchCV(cv=5, error_score='raise-deprecating',\n",
       "             estimator=Pipeline(memory=None,\n",
       "                                steps=[('cvec',\n",
       "                                        CountVectorizer(analyzer='word',\n",
       "                                                        binary=False,\n",
       "                                                        decode_error='strict',\n",
       "                                                        dtype=<class 'numpy.int64'>,\n",
       "                                                        encoding='utf-8',\n",
       "                                                        input='content',\n",
       "                                                        lowercase=True,\n",
       "                                                        max_df=1.0,\n",
       "                                                        max_features=None,\n",
       "                                                        min_df=1,\n",
       "                                                        ngram_range=(1, 1),\n",
       "                                                        preprocessor=None,\n",
       "                                                        stop_words='english',\n",
       "                                                        strip_accents=Non...\n",
       "                                                           verbose=0,\n",
       "                                                           warm_start=False))],\n",
       "                                verbose=False),\n",
       "             iid='warn', n_jobs=None,\n",
       "             param_grid={'cvec__max_df': [0.9, 0.95],\n",
       "                         'cvec__max_features': [100, 200],\n",
       "                         'cvec__min_df': [2, 3],\n",
       "                         'cvec__ngram_range': [(1, 1), (1, 2), (1, 3)],\n",
       "                         'lr__max_iter': [200], 'lr__random_state': [42],\n",
       "                         'lr__solver': ['lbfgs']},\n",
       "             pre_dispatch='2*n_jobs', refit=True, return_train_score=False,\n",
       "             scoring=None, verbose=1)"
      ]
     },
     "execution_count": 10,
     "metadata": {},
     "output_type": "execute_result"
    }
   ],
   "source": [
    "# Set up pipeline\n",
    "pipe_cv = Pipeline([\n",
    "    ('cvec', CountVectorizer(stop_words='english')),\n",
    "    ('lr', LogisticRegression())\n",
    "])\n",
    "# Search over the following values of hyperparameters:\n",
    "pipe_params_cv = {\n",
    "\n",
    "    'cvec__max_features':[100, 200],\n",
    "    'cvec__min_df': [2,3],\n",
    "    'cvec__max_df': [0.9,0.95],\n",
    "    'cvec__ngram_range': [(1, 1), (1, 2), (1, 3)],\n",
    "    'lr__solver': ['lbfgs'],\n",
    "    'lr__max_iter': [200],\n",
    "    'lr__random_state': [42]\n",
    "}\n",
    "# Instantiate GridSearchCV\n",
    "gs_lr_cv = GridSearchCV(pipe_cv, param_grid=pipe_params_cv, cv=5, verbose=1)\n",
    "# Fit GridSearch to training data.\n",
    "gs_lr_cv.fit(X_train,y_train)"
   ]
  },
  {
   "cell_type": "code",
   "execution_count": 11,
   "metadata": {},
   "outputs": [
    {
     "name": "stdout",
     "output_type": "stream",
     "text": [
      "Best Score: 0.9734\n",
      "Best Model: 0.9113\n",
      "Best Parameter: {'cvec__max_df': 0.9, 'cvec__max_features': 200, 'cvec__min_df': 2, 'cvec__ngram_range': (1, 1), 'lr__max_iter': 200, 'lr__random_state': 42, 'lr__solver': 'lbfgs'}\n"
     ]
    }
   ],
   "source": [
    "# Best Score, Parameter and Model Using GridSearch\n",
    "print(f\"Best Score: {round(gs_lr_cv.best_estimator_.score(X_train, y_train,),4)}\")\n",
    "print(f\"Best Model: {round(gs_lr_cv.best_estimator_.score(X_test, y_test,),4)}\")\n",
    "print(f\"Best Parameter: {gs_lr_cv.best_params_}\")"
   ]
  },
  {
   "cell_type": "markdown",
   "metadata": {},
   "source": [
    "#### Logistic Regression - TfidfVectorizer\n",
    "---"
   ]
  },
  {
   "cell_type": "markdown",
   "metadata": {},
   "source": [
    "Set up a pipeline with two stages:\n",
    "\n",
    "- TfidfVectorizer (transformer)\n",
    "- LogisticRegression (estimator)"
   ]
  },
  {
   "cell_type": "code",
   "execution_count": 12,
   "metadata": {},
   "outputs": [
    {
     "name": "stdout",
     "output_type": "stream",
     "text": [
      "Fitting 5 folds for each of 24 candidates, totalling 120 fits\n"
     ]
    },
    {
     "name": "stderr",
     "output_type": "stream",
     "text": [
      "[Parallel(n_jobs=1)]: Using backend SequentialBackend with 1 concurrent workers.\n",
      "[Parallel(n_jobs=1)]: Done 120 out of 120 | elapsed:   26.8s finished\n"
     ]
    },
    {
     "data": {
      "text/plain": [
       "GridSearchCV(cv=5, error_score='raise-deprecating',\n",
       "             estimator=Pipeline(memory=None,\n",
       "                                steps=[('tvec',\n",
       "                                        TfidfVectorizer(analyzer='word',\n",
       "                                                        binary=False,\n",
       "                                                        decode_error='strict',\n",
       "                                                        dtype=<class 'numpy.float64'>,\n",
       "                                                        encoding='utf-8',\n",
       "                                                        input='content',\n",
       "                                                        lowercase=True,\n",
       "                                                        max_df=1.0,\n",
       "                                                        max_features=None,\n",
       "                                                        min_df=1,\n",
       "                                                        ngram_range=(1, 1),\n",
       "                                                        norm='l2',\n",
       "                                                        preprocessor=None,\n",
       "                                                        smooth_idf=True,\n",
       "                                                        stop_words...\n",
       "                                                           verbose=0,\n",
       "                                                           warm_start=False))],\n",
       "                                verbose=False),\n",
       "             iid='warn', n_jobs=None,\n",
       "             param_grid={'lr__max_iter': [200], 'lr__random_state': [42],\n",
       "                         'lr__solver': ['lbfgs'], 'tvec__max_df': [0.9, 0.95],\n",
       "                         'tvec__max_features': [100, 200],\n",
       "                         'tvec__min_df': [2, 3],\n",
       "                         'tvec__ngram_range': [(1, 1), (1, 2), (1, 3)]},\n",
       "             pre_dispatch='2*n_jobs', refit=True, return_train_score=False,\n",
       "             scoring=None, verbose=1)"
      ]
     },
     "execution_count": 12,
     "metadata": {},
     "output_type": "execute_result"
    }
   ],
   "source": [
    "# Set up a pipeline\n",
    "pipe_tf = Pipeline([\n",
    "    ('tvec', TfidfVectorizer()),\n",
    "    ('lr', LogisticRegression())\n",
    "])\n",
    "\n",
    "# Search over the following values of hyperparameters:\n",
    "pipe_params_tf = {\n",
    "    'tvec__max_features':[100, 200],\n",
    "    'tvec__min_df': [2,3],\n",
    "    'tvec__max_df': [0.9,0.95],\n",
    "    'tvec__ngram_range': [(1, 1), (1, 2), (1, 3)],\n",
    "    'lr__solver': ['lbfgs'],\n",
    "    'lr__max_iter': [200],\n",
    "    'lr__random_state': [42]\n",
    "}\n",
    "# Instantiate GridSearchCV\n",
    "gs_lr_tf = GridSearchCV(pipe_tf, param_grid=pipe_params_tf, cv=5, verbose=1)\n",
    "# Fit GridSearch to training data.\n",
    "gs_lr_tf.fit(X_train,y_train)"
   ]
  },
  {
   "cell_type": "code",
   "execution_count": 13,
   "metadata": {},
   "outputs": [
    {
     "name": "stdout",
     "output_type": "stream",
     "text": [
      "Best Score: 0.9477\n",
      "Best Model: 0.92\n",
      "Best Parameter: {'lr__max_iter': 200, 'lr__random_state': 42, 'lr__solver': 'lbfgs', 'tvec__max_df': 0.9, 'tvec__max_features': 200, 'tvec__min_df': 2, 'tvec__ngram_range': (1, 1)}\n"
     ]
    }
   ],
   "source": [
    "# Best Score, Parameter and Model Using GridSearch\n",
    "print(f\"Best Score: {round(gs_lr_tf.best_estimator_.score(X_train, y_train,),4)}\")\n",
    "print(f\"Best Model: {round(gs_lr_tf.best_estimator_.score(X_test, y_test,),4)}\")\n",
    "print(f\"Best Parameter: {gs_lr_tf.best_params_}\")"
   ]
  },
  {
   "cell_type": "markdown",
   "metadata": {},
   "source": [
    "#### Naive Bayes - CountVectorizer\n",
    "---"
   ]
  },
  {
   "cell_type": "markdown",
   "metadata": {},
   "source": [
    "Set up a pipeline with two stages:\n",
    "\n",
    "- CountVectorizer (transformer)\n",
    "- Naive Bayes (estimator)"
   ]
  },
  {
   "cell_type": "code",
   "execution_count": 14,
   "metadata": {},
   "outputs": [
    {
     "name": "stderr",
     "output_type": "stream",
     "text": [
      "[Parallel(n_jobs=1)]: Using backend SequentialBackend with 1 concurrent workers.\n"
     ]
    },
    {
     "name": "stdout",
     "output_type": "stream",
     "text": [
      "Fitting 5 folds for each of 24 candidates, totalling 120 fits\n"
     ]
    },
    {
     "name": "stderr",
     "output_type": "stream",
     "text": [
      "[Parallel(n_jobs=1)]: Done 120 out of 120 | elapsed:   23.9s finished\n"
     ]
    },
    {
     "data": {
      "text/plain": [
       "GridSearchCV(cv=5, error_score='raise-deprecating',\n",
       "             estimator=Pipeline(memory=None,\n",
       "                                steps=[('cvec',\n",
       "                                        CountVectorizer(analyzer='word',\n",
       "                                                        binary=False,\n",
       "                                                        decode_error='strict',\n",
       "                                                        dtype=<class 'numpy.int64'>,\n",
       "                                                        encoding='utf-8',\n",
       "                                                        input='content',\n",
       "                                                        lowercase=True,\n",
       "                                                        max_df=1.0,\n",
       "                                                        max_features=None,\n",
       "                                                        min_df=1,\n",
       "                                                        ngram_range=(1, 1),\n",
       "                                                        preprocessor=None,\n",
       "                                                        stop_words='english',\n",
       "                                                        strip_accents=Non...\n",
       "                                                        tokenizer=None,\n",
       "                                                        vocabulary=None)),\n",
       "                                       ('nb',\n",
       "                                        MultinomialNB(alpha=1.0,\n",
       "                                                      class_prior=None,\n",
       "                                                      fit_prior=True))],\n",
       "                                verbose=False),\n",
       "             iid='warn', n_jobs=None,\n",
       "             param_grid={'cvec__max_df': [0.9, 0.95],\n",
       "                         'cvec__max_features': [100, 200],\n",
       "                         'cvec__min_df': [2, 3],\n",
       "                         'cvec__ngram_range': [(1, 1), (1, 2), (1, 3)]},\n",
       "             pre_dispatch='2*n_jobs', refit=True, return_train_score=False,\n",
       "             scoring=None, verbose=1)"
      ]
     },
     "execution_count": 14,
     "metadata": {},
     "output_type": "execute_result"
    }
   ],
   "source": [
    "# Set up a pipeline\n",
    "pipe_nb_cv = Pipeline([\n",
    "    ('cvec', CountVectorizer(stop_words='english')),\n",
    "    ('nb', MultinomialNB())])\n",
    "\n",
    "# Search over the following values of hyperparameters:\n",
    "param_nb_cv = {\n",
    "    'cvec__max_features':[100, 200],\n",
    "    'cvec__min_df': [2,3],\n",
    "    'cvec__max_df': [0.9,0.95],\n",
    "    'cvec__ngram_range': [(1, 1), (1, 2), (1, 3)],\n",
    "}\n",
    "# Instantiate GridSearchCV\n",
    "gs_nb_cv = GridSearchCV(pipe_nb_cv, param_grid=param_nb_cv, cv=5, verbose=1)\n",
    "# Fit GridSearch to training data.\n",
    "gs_nb_cv.fit(X_train,y_train)"
   ]
  },
  {
   "cell_type": "code",
   "execution_count": 15,
   "metadata": {},
   "outputs": [
    {
     "name": "stdout",
     "output_type": "stream",
     "text": [
      "Best Score: 0.9297\n",
      "Best Model: 0.9165\n",
      "Best Parameter: {'cvec__max_df': 0.9, 'cvec__max_features': 200, 'cvec__min_df': 2, 'cvec__ngram_range': (1, 1)}\n"
     ]
    }
   ],
   "source": [
    "# Best Score, Parameter and Model Using GridSearch\n",
    "print(f\"Best Score: {round(gs_nb_cv.best_estimator_.score(X_train, y_train,),4)}\")\n",
    "print(f\"Best Model: {round(gs_nb_cv.best_estimator_.score(X_test, y_test,),4)}\")\n",
    "print(f\"Best Parameter: {gs_nb_cv.best_params_}\")"
   ]
  },
  {
   "cell_type": "markdown",
   "metadata": {},
   "source": [
    "#### Naive Bayes - TfidfVectorizer\n",
    "---"
   ]
  },
  {
   "cell_type": "markdown",
   "metadata": {},
   "source": [
    "Set up a pipeline with two stages:\n",
    "\n",
    "- TfidfVectorizer (transformer)\n",
    "- Naive Bayes (estimator)"
   ]
  },
  {
   "cell_type": "code",
   "execution_count": 16,
   "metadata": {},
   "outputs": [
    {
     "name": "stderr",
     "output_type": "stream",
     "text": [
      "[Parallel(n_jobs=1)]: Using backend SequentialBackend with 1 concurrent workers.\n"
     ]
    },
    {
     "name": "stdout",
     "output_type": "stream",
     "text": [
      "Fitting 5 folds for each of 24 candidates, totalling 120 fits\n"
     ]
    },
    {
     "name": "stderr",
     "output_type": "stream",
     "text": [
      "[Parallel(n_jobs=1)]: Done 120 out of 120 | elapsed:   26.6s finished\n"
     ]
    },
    {
     "data": {
      "text/plain": [
       "GridSearchCV(cv=5, error_score='raise-deprecating',\n",
       "             estimator=Pipeline(memory=None,\n",
       "                                steps=[('tvec',\n",
       "                                        TfidfVectorizer(analyzer='word',\n",
       "                                                        binary=False,\n",
       "                                                        decode_error='strict',\n",
       "                                                        dtype=<class 'numpy.float64'>,\n",
       "                                                        encoding='utf-8',\n",
       "                                                        input='content',\n",
       "                                                        lowercase=True,\n",
       "                                                        max_df=1.0,\n",
       "                                                        max_features=None,\n",
       "                                                        min_df=1,\n",
       "                                                        ngram_range=(1, 1),\n",
       "                                                        norm='l2',\n",
       "                                                        preprocessor=None,\n",
       "                                                        smooth_idf=True,\n",
       "                                                        stop_words...\n",
       "                                                        tokenizer=None,\n",
       "                                                        use_idf=True,\n",
       "                                                        vocabulary=None)),\n",
       "                                       ('nb',\n",
       "                                        MultinomialNB(alpha=1.0,\n",
       "                                                      class_prior=None,\n",
       "                                                      fit_prior=True))],\n",
       "                                verbose=False),\n",
       "             iid='warn', n_jobs=None,\n",
       "             param_grid={'tvec__max_df': [0.9, 0.95],\n",
       "                         'tvec__max_features': [100, 200],\n",
       "                         'tvec__min_df': [2, 3],\n",
       "                         'tvec__ngram_range': [(1, 1), (1, 2), (1, 3)]},\n",
       "             pre_dispatch='2*n_jobs', refit=True, return_train_score=False,\n",
       "             scoring=None, verbose=1)"
      ]
     },
     "execution_count": 16,
     "metadata": {},
     "output_type": "execute_result"
    }
   ],
   "source": [
    "# Set up a pipeline \n",
    "pipe_nb_tf = Pipeline([\n",
    "    ('tvec', TfidfVectorizer()),\n",
    "    ('nb', MultinomialNB())\n",
    "])\n",
    "# Search over the following values of hyperparameters:\n",
    "params_nb_tf = {   \n",
    "    'tvec__max_features':[100, 200],\n",
    "    'tvec__min_df': [2,3],\n",
    "    'tvec__max_df': [0.9,0.95],\n",
    "    'tvec__ngram_range': [(1, 1), (1, 2), (1, 3)],\n",
    "}\n",
    "# Instantiate GridSearchCV\n",
    "gs_nb_tf = GridSearchCV(pipe_nb_tf, param_grid=params_nb_tf, cv=5, verbose=1)\n",
    "# Fit GridSearch to training data.\n",
    "gs_nb_tf.fit(X_train, y_train)"
   ]
  },
  {
   "cell_type": "code",
   "execution_count": 17,
   "metadata": {},
   "outputs": [
    {
     "name": "stdout",
     "output_type": "stream",
     "text": [
      "Best Score: 0.9203\n",
      "Best Model: 0.9113\n",
      "Best Parameter: {'tvec__max_df': 0.9, 'tvec__max_features': 200, 'tvec__min_df': 2, 'tvec__ngram_range': (1, 1)}\n"
     ]
    }
   ],
   "source": [
    "# Best Score, Parameter and Model Using GridSearch\n",
    "print(f\"Best Score: {round(gs_nb_tf.best_estimator_.score(X_train, y_train,),4)}\")\n",
    "print(f\"Best Model: {round(gs_nb_tf.best_estimator_.score(X_test, y_test,),4)}\")\n",
    "print(f\"Best Parameter: {gs_nb_tf.best_params_}\")"
   ]
  },
  {
   "cell_type": "markdown",
   "metadata": {},
   "source": [
    "#### Model Evaluation\n",
    "---\n"
   ]
  },
  {
   "cell_type": "markdown",
   "metadata": {},
   "source": [
    "- Classification Report"
   ]
  },
  {
   "cell_type": "code",
   "execution_count": 20,
   "metadata": {},
   "outputs": [
    {
     "name": "stdout",
     "output_type": "stream",
     "text": [
      "              precision    recall  f1-score   support\n",
      "\n",
      "           0       0.92      0.93      0.92       296\n",
      "           1       0.92      0.91      0.92       279\n",
      "\n",
      "    accuracy                           0.92       575\n",
      "   macro avg       0.92      0.92      0.92       575\n",
      "weighted avg       0.92      0.92      0.92       575\n",
      "\n",
      "---------------------------------------------------------\n",
      "              precision    recall  f1-score   support\n",
      "\n",
      "           0       0.92      0.92      0.92       296\n",
      "           1       0.92      0.91      0.91       279\n",
      "\n",
      "    accuracy                           0.92       575\n",
      "   macro avg       0.92      0.92      0.92       575\n",
      "weighted avg       0.92      0.92      0.92       575\n",
      "\n"
     ]
    }
   ],
   "source": [
    "# Generate our predictions and classification report for the model with the best score in both Log Reg and Naive Bayes\n",
    "\n",
    "# Logistic Regression with Tfidf Vectorizer\n",
    "pred_lr_tf = gs_lr_tf.predict(X_test)\n",
    "print(classification_report(y_test, pred_lr_tf))\n",
    "print('---------------------------------------------------------')\n",
    "# Naive Bayes with Count Vectorizer\n",
    "pred_nb_cv = gs_nb_cv.predict(X_test)\n",
    "print(classification_report(y_test, pred_nb_cv))"
   ]
  },
  {
   "cell_type": "markdown",
   "metadata": {},
   "source": [
    "- Confusion Matrix - Logistic Regression with TfidfVectorizer"
   ]
  },
  {
   "cell_type": "code",
   "execution_count": 21,
   "metadata": {},
   "outputs": [
    {
     "name": "stdout",
     "output_type": "stream",
     "text": [
      "True Negatives: 275\n",
      "False Positives: 21\n",
      "False Negatives: 25\n",
      "True Positives: 254\n"
     ]
    }
   ],
   "source": [
    "# Generate a confusion matrix\n",
    "# Assign to TN,FP,FN and TP\n",
    "tn, fp, fn, tp = confusion_matrix(y_test, pred_lr_tf).ravel()\n",
    "print(\"True Negatives: %s\" % tn)\n",
    "print(\"False Positives: %s\" % fp)\n",
    "print(\"False Negatives: %s\" % fn)\n",
    "print(\"True Positives: %s\" % tp)"
   ]
  },
  {
   "cell_type": "code",
   "execution_count": 22,
   "metadata": {},
   "outputs": [
    {
     "name": "stdout",
     "output_type": "stream",
     "text": [
      "Model Accuracy: 0.92\n",
      "Model Sensitivity: 0.910394265232975\n",
      "Model Specificity: 0.9290540540540541\n",
      "Model Precision: 0.9236363636363636\n"
     ]
    }
   ],
   "source": [
    "Accuracy = (tp + tn) / (tp + tn + fp + fn)\n",
    "print(f\"Model Accuracy: {(Accuracy)}\")\n",
    "Sensitivity = tp / (tp + fn)\n",
    "print(f\"Model Sensitivity: {Sensitivity}\")\n",
    "Specificity = tn / (tn + fp)\n",
    "print(f\"Model Specificity: {Specificity}\")\n",
    "Precision = tp / (tp + fp)\n",
    "print(f\"Model Precision: {Precision}\")"
   ]
  },
  {
   "cell_type": "markdown",
   "metadata": {},
   "source": [
    "- Confusion Matrix - Naive Bayes with CountVectorizer"
   ]
  },
  {
   "cell_type": "code",
   "execution_count": 23,
   "metadata": {},
   "outputs": [
    {
     "name": "stdout",
     "output_type": "stream",
     "text": [
      "True Negatives: 273\n",
      "False Positives: 23\n",
      "False Negatives: 25\n",
      "True Positives: 254\n"
     ]
    }
   ],
   "source": [
    "# Generate a confusion matrix\n",
    "# Assign to TN,FP,FN and TP\n",
    "tn, fp, fn, tp = confusion_matrix(y_test, pred_nb_cv).ravel()\n",
    "print(\"True Negatives: %s\" % tn)\n",
    "print(\"False Positives: %s\" % fp)\n",
    "print(\"False Negatives: %s\" % fn)\n",
    "print(\"True Positives: %s\" % tp)"
   ]
  },
  {
   "cell_type": "code",
   "execution_count": 24,
   "metadata": {},
   "outputs": [
    {
     "name": "stdout",
     "output_type": "stream",
     "text": [
      "Model Accuracy: 0.9165217391304348\n",
      "Model Sensitivity: 0.910394265232975\n",
      "Model Specificity: 0.9222972972972973\n",
      "Model Precision: 0.9169675090252708\n"
     ]
    }
   ],
   "source": [
    "Accuracy = (tp + tn) / (tp + tn + fp + fn)\n",
    "print(f\"Model Accuracy: {(Accuracy)}\")\n",
    "Sensitivity = tp / (tp + fn)\n",
    "print(f\"Model Sensitivity: {Sensitivity}\")\n",
    "Specificity = tn / (tn + fp)\n",
    "print(f\"Model Specificity: {Specificity}\")\n",
    "Precision = tp / (tp + fp)\n",
    "print(f\"Model Precision: {Precision}\")"
   ]
  },
  {
   "cell_type": "markdown",
   "metadata": {},
   "source": [
    "After evaluating both Logistic Regression with TfidfVectorizer and Naive Bayes with CountVetorizer, notice Logistic Regression model performed better with higher accuracy, specificity and precision scores compared to Naive Bayes."
   ]
  },
  {
   "cell_type": "markdown",
   "metadata": {},
   "source": [
    "#### ROC Curves and AUC\n",
    "---"
   ]
  },
  {
   "cell_type": "code",
   "execution_count": 34,
   "metadata": {},
   "outputs": [],
   "source": [
    "# Function that will create an ROC curve and AUC\n",
    "# https://machinelearningmastery.com/roc-curves-and-precision-recall-curves-for-classification-in-python/\n",
    "\n",
    "def get_roc_curve(model, title):\n",
    "    ns_probs = [0 for _ in range(len(y_test))] # generate a no skill prediction (majority class)\n",
    "    # fit a model\n",
    "    model = GridSearchCV(pipe_tf, param_grid=pipe_params_tf, cv=5, verbose=1)\n",
    "    model.fit(X_train, y_train)\n",
    "    # predict probabilities\n",
    "    model_probs = model.predict_proba(X_test)\n",
    "    # keep probabilities for the positive outcome only\n",
    "    model_probs = model_probs[:, 1]\n",
    "    # calculate scores\n",
    "    ns_auc = roc_auc_score(y_test, ns_probs)\n",
    "    lr_auc = roc_auc_score(y_test, model_probs)\n",
    "    # summarize scores\n",
    "    print('No Skill: ROC AUC=%.3f' % (ns_auc))\n",
    "    print('Model: ROC AUC=%.3f' % (lr_auc))\n",
    "    # calculate roc curves\n",
    "    ns_fpr, ns_tpr, _ = roc_curve(y_test, ns_probs)\n",
    "    lr_fpr, lr_tpr, _ = roc_curve(y_test, model_probs)\n",
    "    # plot the roc curve for the model\n",
    "    plt.plot(ns_fpr, ns_tpr, linestyle='--', label='Base line')\n",
    "    plt.plot(lr_fpr, lr_tpr, marker='.', label='ROC Curve')\n",
    "    # axis labels\n",
    "    plt.title(title, fontsize= 18)\n",
    "    plt.xlabel('False Positive Rate')\n",
    "    plt.ylabel('True Positive Rate')\n",
    "    # show the legend\n",
    "    plt.legend()\n",
    "    # show the plot\n",
    "    plt.show()"
   ]
  },
  {
   "cell_type": "code",
   "execution_count": 35,
   "metadata": {},
   "outputs": [
    {
     "name": "stdout",
     "output_type": "stream",
     "text": [
      "Fitting 5 folds for each of 24 candidates, totalling 120 fits\n"
     ]
    },
    {
     "name": "stderr",
     "output_type": "stream",
     "text": [
      "[Parallel(n_jobs=1)]: Using backend SequentialBackend with 1 concurrent workers.\n"
     ]
    },
    {
     "name": "stdout",
     "output_type": "stream",
     "text": [
      "No Skill: ROC AUC=0.500\n",
      "Model: ROC AUC=0.963\n"
     ]
    },
    {
     "name": "stderr",
     "output_type": "stream",
     "text": [
      "[Parallel(n_jobs=1)]: Done 120 out of 120 | elapsed:   27.0s finished\n"
     ]
    },
    {
     "data": {
      "image/png": "[encoded data removed]",
      "text/plain": [
       "<Figure size 432x288 with 1 Axes>"
      ]
     },
     "metadata": {
      "needs_background": "light"
     },
     "output_type": "display_data"
    }
   ],
   "source": [
    "get_roc_curve(pred_lr_tf, 'Logistic Regression - TfidfVectorizer')"
   ]
  },
  {
   "cell_type": "markdown",
   "metadata": {},
   "source": [
    "#### Conclusion\n",
    "___"
   ]
  },
  {
   "cell_type": "markdown",
   "metadata": {},
   "source": [
    "The Naive Bayes with CountVectorizer and Logistic Regression with TfidfVectorizer worked very well with an high train and test score, even though both subreddits were almost in the same category.\n",
    "Evaluated the model and notice the accuracy level is really high with 92% for Logistic Regression with TfidfVectorizer and 91.67% for Naive Bayes with CountVectorizer.<br>\n",
    "Model precision of Logistic Regression is slightly higher to Naive Bayes at 92.36% compared to 91.69%.<br>\n",
    "This could be attributed to the current market condition, with Covid-19 having a negative impact on job securities and financial stability.<br>\n",
    "Hence more retail investors, would not want to venture into riskier investments and focus more to reduce their reliabilities."
   ]
  },
  {
   "cell_type": "markdown",
   "metadata": {},
   "source": [
    "#### Recommendation\n",
    "___"
   ]
  },
  {
   "cell_type": "markdown",
   "metadata": {},
   "source": [
    "We can tune the parameters of the model, to get an more accurate however it's really time consuming.\n",
    "Hence I suggest to allocate more time on the modeling section, as it's really important to obatin the optimum results.<br>\n",
    "\n",
    "Right now with investors appetite at a all time low, I would suggest financial consultants to work with their current and potential clients in other financial services like offering them to refinance with a lower interest rates, taking up insurance or short term saving plans with interest<br> \n",
    "\n",
    "This can been seen in the word cloud where student loan, debt, credit cards and tax were ones most mentioned."
   ]
  }
 ],
 "metadata": {
  "kernelspec": {
   "display_name": "Python 3",
   "language": "python",
   "name": "python3"
  },
  "language_info": {
   "codemirror_mode": {
    "name": "ipython",
    "version": 3
   },
   "file_extension": ".py",
   "mimetype": "text/x-python",
   "name": "python",
   "nbconvert_exporter": "python",
   "pygments_lexer": "ipython3",
   "version": "3.7.3"
  },
  "varInspector": {
   "cols": {
    "lenName": 16,
    "lenType": 16,
    "lenVar": 40
   },
   "kernels_config": {
    "python": {
     "delete_cmd_postfix": "",
     "delete_cmd_prefix": "del ",
     "library": "var_list.py",
     "varRefreshCmd": "print(var_dic_list())"
    },
    "r": {
     "delete_cmd_postfix": ") ",
     "delete_cmd_prefix": "rm(",
     "library": "var_list.r",
     "varRefreshCmd": "cat(var_dic_list()) "
    }
   },
   "types_to_exclude": [
    "module",
    "function",
    "builtin_function_or_method",
    "instance",
    "_Feature"
   ],
   "window_display": false
  }
 },
 "nbformat": 4,
 "nbformat_minor": 2
}
